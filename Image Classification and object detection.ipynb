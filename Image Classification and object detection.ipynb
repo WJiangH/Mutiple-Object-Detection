{
 "cells": [
  {
   "cell_type": "markdown",
   "id": "6f9332a6",
   "metadata": {},
   "source": [
    "# Image Classification and Object Localization\n",
    "\n",
    "In this Code:\n",
    "- classify the main subject in an image\n",
    "- localize it by drawing bounding boxes around it.\n",
    "\n",
    "Dataset:\n",
    "- [MNIST](http://yann.lecun.com/exdb/mnist/):\n",
    "- Place each \"digit\" image on a black canvas of width 75 x 75 at random locations.\n",
    "- Calculate the corresponding bounding boxes for those \"digits\".\n",
    "\n",
    "The bounding box prediction can be modelled as a \"regression\" task, which means that the model will predict a numeric value (as opposed to a category)."
   ]
  },
  {
   "cell_type": "code",
   "execution_count": 1,
   "id": "f82b95b9",
   "metadata": {},
   "outputs": [
    {
     "name": "stdout",
     "output_type": "stream",
     "text": [
      "Python Platform: macOS-12.4-arm64-arm-64bit\n",
      "Tensor Flow Version: 2.10.0\n",
      "Numpy Version: 1.23.2\n",
      "Keras Version: 2.10.0\n",
      "GPU is available\n"
     ]
    }
   ],
   "source": [
    "import os, re, time, json\n",
    "from PIL import Image, ImageDraw, ImageFont\n",
    "import numpy as np\n",
    "\n",
    "import tensorflow as tf\n",
    "from matplotlib import pyplot as plt\n",
    "import tensorflow_datasets as tfds\n",
    "import platform\n",
    "\n",
    "print(f\"Python Platform: {platform.platform()}\")\n",
    "print(f\"Tensor Flow Version: {tf.__version__}\")\n",
    "print(f\"Numpy Version: {np.__version__}\")\n",
    "print(f\"Keras Version: {tf.keras.__version__}\")\n",
    "gpu = len(tf.config.list_physical_devices('GPU'))>0\n",
    "print(\"GPU is\", \"available\" if gpu else \"NOT AVAILABLE\")\n"
   ]
  },
  {
   "cell_type": "markdown",
   "id": "39514b9d",
   "metadata": {},
   "source": [
    "## Detecting the devices for distributed strategy"
   ]
  },
  {
   "cell_type": "code",
   "execution_count": 2,
   "id": "c9ae4f79",
   "metadata": {},
   "outputs": [
    {
     "name": "stdout",
     "output_type": "stream",
     "text": [
      "Metal device set to: Apple M2\n"
     ]
    },
    {
     "name": "stderr",
     "output_type": "stream",
     "text": [
      "2022-10-05 17:09:25.522074: I tensorflow/core/common_runtime/pluggable_device/pluggable_device_factory.cc:306] Could not identify NUMA node of platform GPU ID 0, defaulting to 0. Your kernel may not have been built with NUMA support.\n",
      "2022-10-05 17:09:25.522846: I tensorflow/core/common_runtime/pluggable_device/pluggable_device_factory.cc:272] Created TensorFlow device (/job:localhost/replica:0/task:0/device:GPU:0 with 0 MB memory) -> physical PluggableDevice (device: 0, name: METAL, pci bus id: <undefined>)\n"
     ]
    }
   ],
   "source": [
    "# Detect hardware\n",
    "try:\n",
    "    tpu = tf.distribute.cluster_resolver.TPUClusterResolver() # TPU detection\n",
    "except ValueError:\n",
    "    tpu = None\n",
    "    gpus = tf.config.experimental.list_logical_devices('GPU')"
   ]
  },
  {
   "cell_type": "code",
   "execution_count": 3,
   "id": "f8473064",
   "metadata": {},
   "outputs": [
    {
     "name": "stdout",
     "output_type": "stream",
     "text": [
      "Running on single GPU /device:GPU:0\n",
      "Number of accelerators 1\n"
     ]
    }
   ],
   "source": [
    "if tpu:\n",
    "    tf.config.experimental_connect_to_cluster(tpu)\n",
    "    tf.tpu.experimental.initialize_tpu_system(tpu)\n",
    "    strategy = tf.distribute.experimental.TPUStrategy(tpu)\n",
    "    print('Running on TPU', tpu.cluster_spec().as_dict()['worker'])\n",
    "elif len(gpus) > 1:\n",
    "    strategy = tf.distribute.MirroredStrategy([gpu.name for gpu in gpus])\n",
    "    print('Running on multi GPUs', [gpu.name for gpu in gpus])\n",
    "elif len(gpus) == 1:\n",
    "    strategy = tf.distribute.get_strategy()\n",
    "    print('Running on single GPU', gpus[0].name)\n",
    "else:\n",
    "    strategy = tf.distribute.get_strategy()\n",
    "    print('Running on CPU')\n",
    "    \n",
    "print('Number of accelerators', strategy.num_replicas_in_sync)"
   ]
  },
  {
   "cell_type": "code",
   "execution_count": 4,
   "id": "2b68e877",
   "metadata": {},
   "outputs": [],
   "source": [
    "BATCH_SIZE = 64 * strategy.num_replicas_in_sync # Global batch size"
   ]
  },
  {
   "cell_type": "code",
   "execution_count": 5,
   "id": "2b568935",
   "metadata": {},
   "outputs": [],
   "source": [
    "def read_image_tfds(image, label):\n",
    "    '''\n",
    "    Transforms each image in dataset by pasting it on a 75x75 canvas at random locations.\n",
    "    Args:\n",
    "        image: original image in dataset, 28x28\n",
    "        label: label\n",
    "        \n",
    "    '''\n",
    "    xmin = tf.random.uniform((), 0 , 48, dtype=tf.int32)\n",
    "    ymin = tf.random.uniform((), 0 , 48, dtype=tf.int32)\n",
    "    image = tf.reshape(image, (28,28,1,))\n",
    "    image = tf.image.pad_to_bounding_box(image, ymin, xmin, 75, 75)\n",
    "    image = tf.cast(image, tf.float32)/255.0\n",
    "    xmin = tf.cast(xmin, tf.float32)\n",
    "    ymin = tf.cast(ymin, tf.float32)\n",
    "   \n",
    "    xmax = (xmin + 28) / 75\n",
    "    ymax = (ymin + 28) / 75\n",
    "    xmin = xmin / 75\n",
    "    ymin = ymin / 75\n",
    "    return image, (tf.one_hot(label, 10), [xmin, ymin, xmax, ymax])\n",
    "\n",
    "def get_dataset():\n",
    "    '''\n",
    "    Loads and maps the training split of the dataset using the map function. \n",
    "    Note that we need to load the gcs version if using TPU in Google colab.\n",
    "\n",
    "    '''\n",
    "    with strategy.scope():\n",
    "        splits, info = tfds.load('mnist', split=['train', 'test'], as_supervised=True, \n",
    "                                 with_info=True, data_dir='./mnist', download=False)\n",
    "        train_data, test_data = splits\n",
    "        train_batches = train_data.map(read_image_tfds, num_parallel_calls = 16)\n",
    "        train_batches = train_batches.shuffle(5000, reshuffle_each_iteration=True)\n",
    "        train_batches = train_batches.repeat().batch(BATCH_SIZE, drop_remainder=True).prefetch(-1)\n",
    "        \n",
    "        test_batches = test_data.map(read_image_tfds, num_parallel_calls=16)\n",
    "        test_batches = test_batches.batch(10000, drop_remainder=True)\n",
    "        test_batches = test_batches.repeat()\n",
    "    \n",
    "    return train_batches, test_batches, info"
   ]
  },
  {
   "cell_type": "code",
   "execution_count": 139,
   "id": "0227f5a8",
   "metadata": {},
   "outputs": [],
   "source": [
    "image_pil = Image.fromarray(x[0])"
   ]
  },
  {
   "cell_type": "code",
   "execution_count": 141,
   "id": "7e616409",
   "metadata": {},
   "outputs": [],
   "source": [
    "rgbimg = Image.new(\"RGBA\", image_pil.size)"
   ]
  },
  {
   "cell_type": "code",
   "execution_count": 144,
   "id": "bd62938c",
   "metadata": {},
   "outputs": [],
   "source": [
    "rgbimg.paste(image_pil)"
   ]
  },
  {
   "cell_type": "code",
   "execution_count": 148,
   "id": "f784b252",
   "metadata": {},
   "outputs": [],
   "source": [
    "draw = ImageDraw.Draw(rgbimg)"
   ]
  },
  {
   "cell_type": "code",
   "execution_count": 157,
   "id": "1cfd67d4",
   "metadata": {},
   "outputs": [],
   "source": [
    "im_width, im_height = rgbimg.size\n",
    "xmin, ymin, xmax, ymax = [0.        , 0.14666666, 0.37333333, 0.52      ]\n",
    "if use_normalized_coordinates:\n",
    "    (left, right, top, bottom) = (xmin * im_width, xmax * im_width,\n",
    "                              ymin * im_height, ymax * im_height)\n",
    "else:\n",
    "    (left, right, top, bottom) = (xmin, xmax, ymin, ymax)\n",
    "draw.line([(left, top), (left, bottom), (right, bottom),\n",
    "         (right, top), (left, top)], width=1, fill='red')"
   ]
  },
  {
   "cell_type": "code",
   "execution_count": 158,
   "id": "cfe7436a",
   "metadata": {},
   "outputs": [
    {
     "data": {
      "text/plain": [
       "<matplotlib.image.AxesImage at 0x2c5c69190>"
      ]
     },
     "execution_count": 158,
     "metadata": {},
     "output_type": "execute_result"
    },
    {
     "data": {
      "image/png": "[encoded data removed]",
      "text/plain": [
       "<Figure size 640x480 with 1 Axes>"
      ]
     },
     "metadata": {},
     "output_type": "display_data"
    }
   ],
   "source": [
    "plt.imshow(rgbimg)"
   ]
  },
  {
   "cell_type": "code",
   "execution_count": 6,
   "id": "389a4237",
   "metadata": {},
   "outputs": [],
   "source": [
    "im_width = 75\n",
    "im_height = 75\n",
    "use_normalized_coordinates = True\n",
    "\n",
    "def draw_bounding_boxes_on_image_array(image,\n",
    "                                       boxes,\n",
    "                                       color=[],\n",
    "                                       thickness=1,\n",
    "                                       display_str_list=()):\n",
    "    \"\"\"Draws bounding boxes on image (numpy array).\n",
    "    Args:\n",
    "      image: a numpy array object.\n",
    "      boxes: a 2 dimensional numpy array of [N, 4]: (ymin, xmin, ymax, xmax).\n",
    "             The coordinates are in normalized format between [0, 1].\n",
    "      color: color to draw bounding box. Default is red.\n",
    "      thickness: line thickness. Default value is 4.\n",
    "      display_str_list_list: a list of strings for each bounding box.\n",
    "    Raises:\n",
    "      ValueError: if boxes is not a [N, 4] array\n",
    "    \"\"\"\n",
    "#     print('image', image.shape)\n",
    "    image_pil = Image.fromarray(image)\n",
    "    rgbimg = Image.new(\"RGBA\", image_pil.size)\n",
    "    rgbimg.paste(image_pil)\n",
    "    draw_bounding_boxes_on_image(rgbimg, boxes, color, thickness,\n",
    "                                 display_str_list)\n",
    "    return np.array(rgbimg)\n",
    "\n",
    "\n",
    "def draw_bounding_boxes_on_image(image,\n",
    "                                 boxes,\n",
    "                                 color=[],\n",
    "                                 thickness=1,\n",
    "                                 display_str_list=()):\n",
    "    \n",
    "    \"\"\"Draws bounding boxes on image.\n",
    "      Args:\n",
    "        image: a PIL.Image object.\n",
    "        boxes: a 2 dimensional numpy array of [N, 4]: (ymin, xmin, ymax, xmax).\n",
    "               The coordinates are in normalized format between [0, 1].\n",
    "        color: color to draw bounding box. Default is red.\n",
    "        thickness: line thickness. Default value is 4.\n",
    "        display_str_list: a list of strings for each bounding box.\n",
    "\n",
    "      Raises:\n",
    "        ValueError: if boxes is not a [N, 4] array\n",
    "    \"\"\"\n",
    "    boxes_shape = boxes.shape\n",
    "    if not boxes_shape:\n",
    "        return\n",
    "    if len(boxes_shape) != 2 or boxes_shape[1] != 4:\n",
    "        raise ValueError('Input must be of size [N, 4]')\n",
    "    for i in range(boxes_shape[0]):\n",
    "        draw_bounding_box_on_image(image, boxes[i, 1], boxes[i, 0], boxes[i, 3],\n",
    "                               boxes[i, 2], color[i], thickness, display_str_list[i])\n",
    "        \n",
    "def draw_bounding_box_on_image(image,\n",
    "                               ymin,\n",
    "                               xmin,\n",
    "                               ymax,\n",
    "                               xmax,\n",
    "                               color='red',\n",
    "                               thickness=1,\n",
    "                               display_str=None,\n",
    "                               use_normalized_coordinates=True):\n",
    "    \"\"\"Adds a bounding box to an image.\n",
    "      Bounding box coordinates can be specified in either absolute (pixel) or\n",
    "      normalized coordinates by setting the use_normalized_coordinates argument.\n",
    "      Args:\n",
    "        image: a PIL.Image object.\n",
    "        ymin: ymin of bounding box.\n",
    "        xmin: xmin of bounding box.\n",
    "        ymax: ymax of bounding box.\n",
    "        xmax: xmax of bounding box.\n",
    "        color: color to draw bounding box. Default is red.\n",
    "        thickness: line thickness. Default value is 4.\n",
    "        display_str_list: string to display in box\n",
    "        use_normalized_coordinates: If True (default), treat coordinates\n",
    "          ymin, xmin, ymax, xmax as relative to the image.  Otherwise treat\n",
    "          coordinates as absolute.\n",
    "    \"\"\"\n",
    "    draw = ImageDraw.Draw(image)\n",
    "    im_width, im_height = image.size\n",
    "    if use_normalized_coordinates:\n",
    "        (left, right, top, bottom) = (xmin * im_width, xmax * im_width,\n",
    "                                  ymin * im_height, ymax * im_height)\n",
    "    else:\n",
    "        (left, right, top, bottom) = (xmin, xmax, ymin, ymax)\n",
    "    draw.line([(left, top), (left, bottom), (right, bottom),\n",
    "             (right, top), (left, top)], width=thickness, fill=color)\n",
    "\n",
    "\n",
    "def display_digits_with_boxes(digits, predictions, labels, pred_bboxes, bboxes, iou, title):\n",
    "\n",
    "    n = 10\n",
    "    indexes = np.random.choice(len(predictions), size=n)\n",
    "\n",
    "    n_digits = digits[indexes]\n",
    "    n_predictions = predictions[indexes]\n",
    "    n_labels = labels[indexes]\n",
    "\n",
    "    n_iou = []\n",
    "    if len(iou) > 0:\n",
    "        n_iou = iou[indexes]\n",
    "\n",
    "    if (len(pred_bboxes) > 0):\n",
    "        n_pred_bboxes = pred_bboxes[indexes,:]\n",
    "\n",
    "    if (len(bboxes) > 0):\n",
    "        n_bboxes = bboxes[indexes,:]\n",
    "\n",
    "\n",
    "    n_digits = n_digits * 255.0\n",
    "#     print(digits.shape, n_digits.shape)\n",
    "    \n",
    "    n_digits = n_digits.reshape(n, 75, 75)\n",
    "    fig = plt.figure(figsize=(20, 4))\n",
    "    plt.title(title)\n",
    "    plt.yticks([])\n",
    "    plt.xticks([])\n",
    "  \n",
    "    for i in range(10):\n",
    "        ax = fig.add_subplot(1, 10, i+1)\n",
    "        bboxes_to_plot = []\n",
    "        if (len(pred_bboxes) > i):\n",
    "            bboxes_to_plot.append(n_pred_bboxes[i])\n",
    "    \n",
    "        if (len(bboxes) > i):\n",
    "            bboxes_to_plot.append(n_bboxes[i])\n",
    "\n",
    "        img_to_draw = draw_bounding_boxes_on_image_array(image=n_digits[i], boxes=np.asarray(bboxes_to_plot), \n",
    "                                                         color=['red', 'green'], display_str_list=[\"true\", \"pred\"])\n",
    "        plt.xlabel(n_predictions[i])\n",
    "        plt.xticks([])\n",
    "        plt.yticks([])\n",
    "    \n",
    "        if n_predictions[i] != n_labels[i]:\n",
    "            ax.xaxis.label.set_color('red')\n",
    "\n",
    "        plt.imshow(img_to_draw)\n",
    "\n",
    "        if len(iou) > i :\n",
    "            color = \"black\"\n",
    "            if (n_iou[i][0] < iou_threshold):\n",
    "                color = \"red\"\n",
    "            ax.text(0.2, -0.3, \"iou: %s\" %(n_iou[i][0]), color=color, transform=ax.transAxes)"
   ]
  },
  {
   "cell_type": "code",
   "execution_count": 7,
   "id": "0a5cd7aa",
   "metadata": {},
   "outputs": [],
   "source": [
    "# Matplotlib config\n",
    "plt.rc('image', cmap='gray')\n",
    "plt.rc('grid', linewidth=0)\n",
    "plt.rc('xtick', top=False, bottom=False, labelsize='large')\n",
    "plt.rc('ytick', left=False, right=False, labelsize='large')\n",
    "plt.rc('axes', facecolor='F8F8F8', titlesize=\"large\", edgecolor='white')\n",
    "plt.rc('text', color='a8151a')\n",
    "plt.rc('figure', facecolor='F0F0F0')# Matplotlib fonts\n",
    "MATPLOTLIB_FONT_DIR = os.path.join(os.path.dirname(plt.__file__), \"mpl-data/fonts/ttf\")\n",
    "\n",
    "def dataset_to_numpy_util(training_dataset, validation_dataset, N):\n",
    "\n",
    "    \"\"\"\n",
    "    This cell contains helper functions used for visualization\n",
    "    and downloads only. \n",
    "\n",
    "    You can skip reading it, as there is very\n",
    "    little Keras or Tensorflow related code here.\n",
    "    \"\"\"\n",
    "\n",
    "  # get one batch from each: 10000 validation digits, N training digits\n",
    "    batch_train_ds = training_dataset.unbatch().batch(N)\n",
    "  \n",
    "  # eager execution: loop through datasets normally\n",
    "    if tf.executing_eagerly():\n",
    "        for validation_digits, (validation_labels, validation_bboxes) in validation_dataset:\n",
    "            validation_digits = validation_digits.numpy()\n",
    "            validation_labels = validation_labels.numpy()\n",
    "            validation_bboxes = validation_bboxes.numpy()\n",
    "            break\n",
    "            \n",
    "        for training_digits, (training_labels, training_bboxes) in batch_train_ds:\n",
    "            training_digits = training_digits.numpy()\n",
    "            training_labels = training_labels.numpy()\n",
    "            training_bboxes = training_bboxes.numpy()\n",
    "            break \n",
    "  \n",
    "  # these were one-hot encoded in the dataset\n",
    "    validation_labels = np.argmax(validation_labels, axis=1)\n",
    "    training_labels = np.argmax(training_labels, axis=1)\n",
    "  \n",
    "    return (training_digits, training_labels, training_bboxes,\n",
    "            validation_digits, validation_labels, validation_bboxes)\n",
    "\n",
    "# create digits from local fonts for testing\n",
    "def create_digits_from_local_fonts(n):\n",
    "    font_labels = []\n",
    "    img = Image.new('LA', (75*n, 75), color = (0,255)) # format 'LA': black in channel 0, alpha in channel 1\n",
    "    font1 = ImageFont.truetype(os.path.join(MATPLOTLIB_FONT_DIR, 'DejaVuSansMono-Oblique.ttf'), 25)\n",
    "    font2 = ImageFont.truetype(os.path.join(MATPLOTLIB_FONT_DIR, 'STIXGeneral.ttf'), 25)\n",
    "    d = ImageDraw.Draw(img)\n",
    "    for i in range(n):\n",
    "        font_labels.append(i%10)\n",
    "        d.text((7+i*75,0 if i<10 else -4), str(i%10), fill=(255,255), font=font1 if i<10 else font2)\n",
    "    font_digits = np.array(img.getdata(), np.float32)[:,0] / 255.0 # black in channel 0, alpha in channel 1 (discarded)\n",
    "    font_digits = np.reshape(np.stack(np.split(np.reshape(font_digits, [75, 75*n]), n, axis=1), axis=0), [n, 75*75])\n",
    "    return font_digits, font_labels\n"
   ]
  },
  {
   "cell_type": "code",
   "execution_count": 8,
   "id": "b6880cc8",
   "metadata": {},
   "outputs": [],
   "source": [
    "with strategy.scope():\n",
    "    train_batches, test_batches, info = get_dataset()"
   ]
  },
  {
   "cell_type": "code",
   "execution_count": 9,
   "id": "2ddd7280",
   "metadata": {},
   "outputs": [
    {
     "data": {
      "text/plain": [
       "tfds.core.DatasetInfo(\n",
       "    name='mnist',\n",
       "    full_name='mnist/3.0.1',\n",
       "    description=\"\"\"\n",
       "    The MNIST database of handwritten digits.\n",
       "    \"\"\",\n",
       "    homepage='http://yann.lecun.com/exdb/mnist/',\n",
       "    data_path='./mnist/mnist/3.0.1',\n",
       "    file_format=tfrecord,\n",
       "    download_size=11.06 MiB,\n",
       "    dataset_size=21.00 MiB,\n",
       "    features=FeaturesDict({\n",
       "        'image': Image(shape=(28, 28, 1), dtype=tf.uint8),\n",
       "        'label': ClassLabel(shape=(), dtype=tf.int64, num_classes=10),\n",
       "    }),\n",
       "    supervised_keys=('image', 'label'),\n",
       "    disable_shuffling=False,\n",
       "    splits={\n",
       "        'test': <SplitInfo num_examples=10000, num_shards=1>,\n",
       "        'train': <SplitInfo num_examples=60000, num_shards=1>,\n",
       "    },\n",
       "    citation=\"\"\"@article{lecun2010mnist,\n",
       "      title={MNIST handwritten digit database},\n",
       "      author={LeCun, Yann and Cortes, Corinna and Burges, CJ},\n",
       "      journal={ATT Labs [Online]. Available: http://yann.lecun.com/exdb/mnist},\n",
       "      volume={2},\n",
       "      year={2010}\n",
       "    }\"\"\",\n",
       ")"
      ]
     },
     "execution_count": 9,
     "metadata": {},
     "output_type": "execute_result"
    }
   ],
   "source": [
    "info"
   ]
  },
  {
   "cell_type": "code",
   "execution_count": 10,
   "id": "f7eb420f",
   "metadata": {},
   "outputs": [
    {
     "name": "stderr",
     "output_type": "stream",
     "text": [
      "2022-10-05 17:10:16.682601: W tensorflow/core/platform/profile_utils/cpu_utils.cc:128] Failed to get CPU frequency: 0 Hz\n",
      "2022-10-05 17:10:17.046666: W tensorflow/core/kernels/data/cache_dataset_ops.cc:856] The calling iterator did not fully read the dataset being cached. In order to avoid unexpected truncation of the dataset, the partially cached contents of the dataset  will be discarded. This can happen if you have an input pipeline similar to `dataset.cache().take(k).repeat()`. You should use `dataset.take(k).cache().repeat()` instead.\n"
     ]
    }
   ],
   "source": [
    "(training_digits, training_labels, training_bboxes,\n",
    " validation_digits, validation_labels, validation_bboxes) = dataset_to_numpy_util(train_batches, test_batches, 10)"
   ]
  },
  {
   "cell_type": "code",
   "execution_count": 11,
   "id": "4f9e4155",
   "metadata": {},
   "outputs": [
    {
     "data": {
      "image/png": "[encoded data removed]",
      "text/plain": [
       "<Figure size 2000x400 with 11 Axes>"
      ]
     },
     "metadata": {},
     "output_type": "display_data"
    },
    {
     "data": {
      "image/png": "[encoded data removed]",
      "text/plain": [
       "<Figure size 2000x400 with 11 Axes>"
      ]
     },
     "metadata": {},
     "output_type": "display_data"
    }
   ],
   "source": [
    "display_digits_with_boxes(training_digits, training_labels, training_labels, np.array([]), training_bboxes, np.array([]), \"training digits and their labels\")\n",
    "display_digits_with_boxes(validation_digits, validation_labels, validation_labels, np.array([]), validation_bboxes, np.array([]), \"validation digits and their labels\")"
   ]
  },
  {
   "cell_type": "markdown",
   "id": "1fbf3698",
   "metadata": {},
   "source": [
    "## Define the Network\n",
    "\n",
    "<img src='./CNN.jpeg'>"
   ]
  },
  {
   "cell_type": "code",
   "execution_count": 12,
   "id": "d178dabf",
   "metadata": {},
   "outputs": [],
   "source": [
    "def feature_extractor(inputs):\n",
    "    x = tf.keras.layers.Conv2D(16, activation='relu', kernel_size=3, input_shape=(75, 75, 1))(inputs)\n",
    "    x = tf.keras.layers.AveragePooling2D((2, 2))(x)\n",
    "    x = tf.keras.layers.Conv2D(32, activation='relu', kernel_size=3)(x)\n",
    "    x = tf.keras.layers.AveragePooling2D((2, 2))(x)\n",
    "    x = tf.keras.layers.Conv2D(64, activation='relu', kernel_size=3)(x)\n",
    "    x = tf.keras.layers.AveragePooling2D((2, 2))(x)\n",
    "    \n",
    "    return x\n",
    "\n",
    "\n",
    "def dense_layers(inputs):\n",
    "    x = tf.keras.layers.Flatten()(inputs)\n",
    "    x = tf.keras.layers.Dense(128, 'relu')(x)\n",
    "    \n",
    "    return x\n",
    "\n",
    "def classifier(inputs):\n",
    "    \n",
    "    classifier_output = tf.keras.layers.Dense(10, activation='softmax', name='classifier')(inputs)\n",
    "    return classifier_output\n",
    "\n",
    "def bounding_box_regression(inputs):\n",
    "    \n",
    "    bounding_box_regression_output = tf.keras.layers.Dense(4, name = 'bounding_box')(inputs)\n",
    "    return bounding_box_regression_output\n",
    "\n",
    "def final_model(inputs):\n",
    "    feature_cnn = feature_extractor(inputs)\n",
    "    dense_output = dense_layers(feature_cnn)\n",
    "    \n",
    "    classifier_output = classifier(dense_output)\n",
    "    bounding_box_regression_output = bounding_box_regression(dense_output)\n",
    "    \n",
    "    model = tf.keras.Model(inputs=inputs, outputs=[classifier_output, bounding_box_regression_output])\n",
    "    \n",
    "    return model\n",
    "\n",
    "def define_and_compile_model(inputs):\n",
    "    model = final_model(inputs)\n",
    "    \n",
    "    model.compile(optimizer='adam',\n",
    "                  loss = {'classifier': 'categorical_crossentropy',\n",
    "                        'bounding_box': 'mse'\n",
    "                         },\n",
    "                  metrics = {'classifier' : 'accuracy',\n",
    "                         'bounding_box' : 'mse'\n",
    "                        }\n",
    "                 )    \n",
    "    return model\n",
    "    \n",
    "    "
   ]
  },
  {
   "cell_type": "code",
   "execution_count": 13,
   "id": "0c8465db",
   "metadata": {},
   "outputs": [
    {
     "name": "stdout",
     "output_type": "stream",
     "text": [
      "Model: \"model\"\n",
      "__________________________________________________________________________________________________\n",
      " Layer (type)                   Output Shape         Param #     Connected to                     \n",
      "==================================================================================================\n",
      " input_1 (InputLayer)           [(None, 75, 75, 1)]  0           []                               \n",
      "                                                                                                  \n",
      " conv2d (Conv2D)                (None, 73, 73, 16)   160         ['input_1[0][0]']                \n",
      "                                                                                                  \n",
      " average_pooling2d (AveragePool  (None, 36, 36, 16)  0           ['conv2d[0][0]']                 \n",
      " ing2D)                                                                                           \n",
      "                                                                                                  \n",
      " conv2d_1 (Conv2D)              (None, 34, 34, 32)   4640        ['average_pooling2d[0][0]']      \n",
      "                                                                                                  \n",
      " average_pooling2d_1 (AveragePo  (None, 17, 17, 32)  0           ['conv2d_1[0][0]']               \n",
      " oling2D)                                                                                         \n",
      "                                                                                                  \n",
      " conv2d_2 (Conv2D)              (None, 15, 15, 64)   18496       ['average_pooling2d_1[0][0]']    \n",
      "                                                                                                  \n",
      " average_pooling2d_2 (AveragePo  (None, 7, 7, 64)    0           ['conv2d_2[0][0]']               \n",
      " oling2D)                                                                                         \n",
      "                                                                                                  \n",
      " flatten (Flatten)              (None, 3136)         0           ['average_pooling2d_2[0][0]']    \n",
      "                                                                                                  \n",
      " dense (Dense)                  (None, 128)          401536      ['flatten[0][0]']                \n",
      "                                                                                                  \n",
      " classifier (Dense)             (None, 10)           1290        ['dense[0][0]']                  \n",
      "                                                                                                  \n",
      " bounding_box (Dense)           (None, 4)            516         ['dense[0][0]']                  \n",
      "                                                                                                  \n",
      "==================================================================================================\n",
      "Total params: 426,638\n",
      "Trainable params: 426,638\n",
      "Non-trainable params: 0\n",
      "__________________________________________________________________________________________________\n"
     ]
    }
   ],
   "source": [
    "with strategy.scope():\n",
    "    inputs = tf.keras.layers.Input(shape=(75, 75, 1))\n",
    "    model = define_and_compile_model(inputs)\n",
    "\n",
    "model.summary()"
   ]
  },
  {
   "cell_type": "code",
   "execution_count": 14,
   "id": "d792dccb",
   "metadata": {},
   "outputs": [
    {
     "name": "stdout",
     "output_type": "stream",
     "text": [
      "Epoch 1/10\n"
     ]
    },
    {
     "name": "stderr",
     "output_type": "stream",
     "text": [
      "2022-10-05 17:10:28.437924: I tensorflow/core/grappler/optimizers/custom_graph_optimizer_registry.cc:114] Plugin optimizer for device_type GPU is enabled.\n"
     ]
    },
    {
     "name": "stdout",
     "output_type": "stream",
     "text": [
      "936/937 [============================>.] - ETA: 0s - loss: 0.9155 - classifier_loss: 0.8992 - bounding_box_loss: 0.0163 - classifier_accuracy: 0.6878 - bounding_box_mse: 0.0163"
     ]
    },
    {
     "name": "stderr",
     "output_type": "stream",
     "text": [
      "2022-10-05 17:10:41.372991: I tensorflow/core/grappler/optimizers/custom_graph_optimizer_registry.cc:114] Plugin optimizer for device_type GPU is enabled.\n"
     ]
    },
    {
     "name": "stdout",
     "output_type": "stream",
     "text": [
      "937/937 [==============================] - 16s 16ms/step - loss: 0.9149 - classifier_loss: 0.8986 - bounding_box_loss: 0.0163 - classifier_accuracy: 0.6880 - bounding_box_mse: 0.0163 - val_loss: 9.9822 - val_classifier_loss: 9.8938 - val_bounding_box_loss: 0.0884 - val_classifier_accuracy: 0.2330 - val_bounding_box_mse: 0.0884\n",
      "Epoch 2/10\n",
      "937/937 [==============================] - 14s 15ms/step - loss: 0.2802 - classifier_loss: 0.2736 - bounding_box_loss: 0.0067 - classifier_accuracy: 0.9163 - bounding_box_mse: 0.0067 - val_loss: 12.3164 - val_classifier_loss: 12.2223 - val_bounding_box_loss: 0.0941 - val_classifier_accuracy: 0.2073 - val_bounding_box_mse: 0.0941\n",
      "Epoch 3/10\n",
      "937/937 [==============================] - 14s 15ms/step - loss: 0.1962 - classifier_loss: 0.1923 - bounding_box_loss: 0.0039 - classifier_accuracy: 0.9407 - bounding_box_mse: 0.0039 - val_loss: 15.8472 - val_classifier_loss: 15.7674 - val_bounding_box_loss: 0.0798 - val_classifier_accuracy: 0.1880 - val_bounding_box_mse: 0.0798\n",
      "Epoch 4/10\n",
      "937/937 [==============================] - 13s 14ms/step - loss: 0.1579 - classifier_loss: 0.1553 - bounding_box_loss: 0.0027 - classifier_accuracy: 0.9533 - bounding_box_mse: 0.0027 - val_loss: 14.9802 - val_classifier_loss: 14.9313 - val_bounding_box_loss: 0.0489 - val_classifier_accuracy: 0.1873 - val_bounding_box_mse: 0.0489\n",
      "Epoch 5/10\n",
      "937/937 [==============================] - 13s 14ms/step - loss: 0.1320 - classifier_loss: 0.1300 - bounding_box_loss: 0.0019 - classifier_accuracy: 0.9601 - bounding_box_mse: 0.0019 - val_loss: 18.4807 - val_classifier_loss: 18.4425 - val_bounding_box_loss: 0.0383 - val_classifier_accuracy: 0.1958 - val_bounding_box_mse: 0.0383\n",
      "Epoch 6/10\n",
      "937/937 [==============================] - 14s 15ms/step - loss: 0.1173 - classifier_loss: 0.1158 - bounding_box_loss: 0.0015 - classifier_accuracy: 0.9638 - bounding_box_mse: 0.0015 - val_loss: 17.6370 - val_classifier_loss: 17.6063 - val_bounding_box_loss: 0.0307 - val_classifier_accuracy: 0.2296 - val_bounding_box_mse: 0.0307\n",
      "Epoch 7/10\n",
      "937/937 [==============================] - 14s 14ms/step - loss: 0.1051 - classifier_loss: 0.1037 - bounding_box_loss: 0.0013 - classifier_accuracy: 0.9680 - bounding_box_mse: 0.0013 - val_loss: 21.5586 - val_classifier_loss: 21.5256 - val_bounding_box_loss: 0.0330 - val_classifier_accuracy: 0.1732 - val_bounding_box_mse: 0.0330\n",
      "Epoch 8/10\n",
      "937/937 [==============================] - 13s 14ms/step - loss: 0.0947 - classifier_loss: 0.0934 - bounding_box_loss: 0.0012 - classifier_accuracy: 0.9717 - bounding_box_mse: 0.0012 - val_loss: 18.2529 - val_classifier_loss: 18.2241 - val_bounding_box_loss: 0.0288 - val_classifier_accuracy: 0.2043 - val_bounding_box_mse: 0.0288\n",
      "Epoch 9/10\n",
      "937/937 [==============================] - 13s 14ms/step - loss: 0.0865 - classifier_loss: 0.0854 - bounding_box_loss: 0.0011 - classifier_accuracy: 0.9735 - bounding_box_mse: 0.0011 - val_loss: 17.6335 - val_classifier_loss: 17.6053 - val_bounding_box_loss: 0.0283 - val_classifier_accuracy: 0.2081 - val_bounding_box_mse: 0.0283\n",
      "Epoch 10/10\n",
      "937/937 [==============================] - 13s 14ms/step - loss: 0.0791 - classifier_loss: 0.0782 - bounding_box_loss: 9.7408e-04 - classifier_accuracy: 0.9763 - bounding_box_mse: 9.7408e-04 - val_loss: 20.1139 - val_classifier_loss: 20.0905 - val_bounding_box_loss: 0.0234 - val_classifier_accuracy: 0.1608 - val_bounding_box_mse: 0.0234\n",
      "1/1 [==============================] - 1s 953ms/step - loss: 20.0773 - classifier_loss: 20.0540 - bounding_box_loss: 0.0234 - classifier_accuracy: 0.1591 - bounding_box_mse: 0.0234\n"
     ]
    }
   ],
   "source": [
    "EPOCHS = 10\n",
    "steps_per_epoch = 60000//BATCH_SIZE\n",
    "validation_steps = 1\n",
    "\n",
    "history = model.fit(train_batches, epochs=EPOCHS, validation_data=test_batches,\n",
    "                    steps_per_epoch=steps_per_epoch,validation_steps=validation_steps)\n",
    "loss, classification_loss, bounding_box_loss, classification_accuracy, bounding_box_mse = model.evaluate(test_batches, steps=1)\n",
    "\n"
   ]
  },
  {
   "cell_type": "code",
   "execution_count": 17,
   "id": "77ee6e51",
   "metadata": {},
   "outputs": [
    {
     "data": {
      "image/png": "[encoded data removed]",
      "text/plain": [
       "<Figure size 640x480 with 1 Axes>"
      ]
     },
     "metadata": {},
     "output_type": "display_data"
    }
   ],
   "source": [
    "def plot_metrics(metric_name, title, ylim=5):\n",
    "    plt.title(title)\n",
    "    plt.ylim(0,ylim)\n",
    "    plt.plot(history.history[metric_name],color='blue',label=metric_name)\n",
    "    plt.plot(history.history['val_' + metric_name],color='green',label='val_' + metric_name)\n",
    "    \n",
    "plot_metrics(\"classifier_loss\", \"Classification Loss\")\n",
    "plot_metrics(\"bounding_box_loss\", \"Bounding Box Loss\")"
   ]
  },
  {
   "cell_type": "markdown",
   "id": "23ffebec",
   "metadata": {},
   "source": [
    "## Intersection over union\n",
    "\n",
    "Calculate the I-O-U metric to evaluate the model's performance."
   ]
  },
  {
   "cell_type": "code",
   "execution_count": 18,
   "id": "b51c01ff",
   "metadata": {},
   "outputs": [],
   "source": [
    "def intersection_over_union(pred_box, true_box):\n",
    "    xmin_pred, ymin_pred, xmax_pred, ymax_pred =  np.split(pred_box, 4, axis = 1)\n",
    "    xmin_true, ymin_true, xmax_true, ymax_true = np.split(true_box, 4, axis = 1)\n",
    "\n",
    "    smoothing_factor = 1e-10\n",
    "\n",
    "    xmin_overlap = np.maximum(xmin_pred, xmin_true)\n",
    "    xmax_overlap = np.minimum(xmax_pred, xmax_true)\n",
    "    ymin_overlap = np.maximum(ymin_pred, ymin_true)\n",
    "    ymax_overlap = np.minimum(ymax_pred, ymax_true)\n",
    "\n",
    "    pred_box_area = (xmax_pred - xmin_pred) * (ymax_pred - ymin_pred)\n",
    "    true_box_area = (xmax_true - xmin_true) * (ymax_true - ymin_true)\n",
    "\n",
    "    overlap_area = np.maximum((xmax_overlap - xmin_overlap), 0)  * np.maximum((ymax_overlap - ymin_overlap), 0)\n",
    "    union_area = (pred_box_area + true_box_area) - overlap_area\n",
    "    \n",
    "    iou = (overlap_area + smoothing_factor) / (union_area + smoothing_factor)\n",
    "\n",
    "    return iou"
   ]
  },
  {
   "cell_type": "code",
   "execution_count": 19,
   "id": "04915909",
   "metadata": {},
   "outputs": [
    {
     "name": "stdout",
     "output_type": "stream",
     "text": [
      " 17/157 [==>...........................] - ETA: 0s"
     ]
    },
    {
     "name": "stderr",
     "output_type": "stream",
     "text": [
      "2022-10-05 17:16:18.576794: I tensorflow/core/grappler/optimizers/custom_graph_optimizer_registry.cc:114] Plugin optimizer for device_type GPU is enabled.\n"
     ]
    },
    {
     "name": "stdout",
     "output_type": "stream",
     "text": [
      "157/157 [==============================] - 1s 4ms/step\n",
      "Number of predictions where iou > threshold(0.6): 9474\n",
      "Number of predictions where iou < threshold(0.6): 526\n"
     ]
    },
    {
     "data": {
      "image/png": "[encoded data removed]",
      "text/plain": [
       "<Figure size 2000x400 with 11 Axes>"
      ]
     },
     "metadata": {},
     "output_type": "display_data"
    }
   ],
   "source": [
    "predictions = model.predict(validation_digits, batch_size=64)\n",
    "predicted_labels = np.argmax(predictions[0], axis=1)\n",
    "\n",
    "predicted_bboxes = predictions[1]\n",
    "\n",
    "iou = intersection_over_union(predicted_bboxes, validation_bboxes)\n",
    "\n",
    "iou_threshold = 0.6\n",
    "\n",
    "print(\"Number of predictions where iou > threshold(%s): %s\" % (iou_threshold, (iou >= iou_threshold).sum()))\n",
    "print(\"Number of predictions where iou < threshold(%s): %s\" % (iou_threshold, (iou < iou_threshold).sum()))\n",
    "\n",
    "\n",
    "display_digits_with_boxes(validation_digits, predicted_labels, validation_labels, predicted_bboxes, validation_bboxes, iou, \"True and Predicted values\")"
   ]
  },
  {
   "cell_type": "code",
   "execution_count": null,
   "id": "78df236d",
   "metadata": {},
   "outputs": [],
   "source": []
  }
 ],
 "metadata": {
  "kernelspec": {
   "display_name": "Python 3.9 (tensorflow)",
   "language": "python",
   "name": "tf"
  },
  "language_info": {
   "codemirror_mode": {
    "name": "ipython",
    "version": 3
   },
   "file_extension": ".py",
   "mimetype": "text/x-python",
   "name": "python",
   "nbconvert_exporter": "python",
   "pygments_lexer": "ipython3",
   "version": "3.9.13"
  }
 },
 "nbformat": 4,
 "nbformat_minor": 5
}
